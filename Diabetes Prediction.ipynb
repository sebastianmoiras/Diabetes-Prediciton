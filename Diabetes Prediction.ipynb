{
 "cells": [
  {
   "cell_type": "code",
   "execution_count": 1,
   "id": "88cef452-3091-4cd1-81f6-5750117a91c7",
   "metadata": {},
   "outputs": [
    {
     "name": "stdout",
     "output_type": "stream",
     "text": [
      "Requirement already satisfied: matplotlib in c:\\users\\jonathan\\miniconda3\\envs\\tf\\lib\\site-packages (3.9.4)\n",
      "Requirement already satisfied: contourpy>=1.0.1 in c:\\users\\jonathan\\miniconda3\\envs\\tf\\lib\\site-packages (from matplotlib) (1.3.0)\n",
      "Requirement already satisfied: cycler>=0.10 in c:\\users\\jonathan\\miniconda3\\envs\\tf\\lib\\site-packages (from matplotlib) (0.12.1)\n",
      "Requirement already satisfied: fonttools>=4.22.0 in c:\\users\\jonathan\\miniconda3\\envs\\tf\\lib\\site-packages (from matplotlib) (4.56.0)\n",
      "Requirement already satisfied: kiwisolver>=1.3.1 in c:\\users\\jonathan\\miniconda3\\envs\\tf\\lib\\site-packages (from matplotlib) (1.4.7)\n",
      "Requirement already satisfied: numpy>=1.23 in c:\\users\\jonathan\\miniconda3\\envs\\tf\\lib\\site-packages (from matplotlib) (1.26.4)\n",
      "Requirement already satisfied: packaging>=20.0 in c:\\users\\jonathan\\miniconda3\\envs\\tf\\lib\\site-packages (from matplotlib) (24.2)\n",
      "Requirement already satisfied: pillow>=8 in c:\\users\\jonathan\\miniconda3\\envs\\tf\\lib\\site-packages (from matplotlib) (11.1.0)\n",
      "Requirement already satisfied: pyparsing>=2.3.1 in c:\\users\\jonathan\\miniconda3\\envs\\tf\\lib\\site-packages (from matplotlib) (3.2.1)\n",
      "Requirement already satisfied: python-dateutil>=2.7 in c:\\users\\jonathan\\miniconda3\\envs\\tf\\lib\\site-packages (from matplotlib) (2.9.0.post0)\n",
      "Requirement already satisfied: importlib-resources>=3.2.0 in c:\\users\\jonathan\\miniconda3\\envs\\tf\\lib\\site-packages (from matplotlib) (6.5.2)\n",
      "Requirement already satisfied: zipp>=3.1.0 in c:\\users\\jonathan\\miniconda3\\envs\\tf\\lib\\site-packages (from importlib-resources>=3.2.0->matplotlib) (3.21.0)\n",
      "Requirement already satisfied: six>=1.5 in c:\\users\\jonathan\\miniconda3\\envs\\tf\\lib\\site-packages (from python-dateutil>=2.7->matplotlib) (1.16.0)\n",
      "Note: you may need to restart the kernel to use updated packages.\n"
     ]
    }
   ],
   "source": [
    "pip install matplotlib"
   ]
  },
  {
   "cell_type": "code",
   "execution_count": 60,
   "id": "9cd3c83e-867a-40c1-9873-e3536a050d11",
   "metadata": {},
   "outputs": [],
   "source": [
    "# Import Library yang dibutuhkan\n",
    "import keras_tuner as kt\n",
    "\n",
    "import pandas as pd\n",
    "import numpy as np\n",
    "import random\n",
    "\n",
    "import tensorflow as tf\n",
    "from tensorflow.keras.layers import Dense\n",
    "from tensorflow.keras.models import Sequential,Model\n",
    "from tensorflow.keras.utils import plot_model\n",
    "from matplotlib import pyplot as plt\n",
    "\n",
    "from sklearn.model_selection import train_test_split\n",
    "from sklearn.preprocessing import RobustScaler,StandardScaler,OneHotEncoder,OrdinalEncoder\n",
    "\n",
    "SEED_VALUE=123 #menetapkan seed value agar setiap kali kode jalan, hasilnya konsisten karena nilainya tidak akan acak setiap re-run code\n",
    "random.seed(SEED_VALUE) \n",
    "np.random.seed(SEED_VALUE)"
   ]
  },
  {
   "cell_type": "code",
   "execution_count": 3,
   "id": "fdfc4de0-1362-47f0-bd33-6548c58f3dc7",
   "metadata": {},
   "outputs": [
    {
     "name": "stdout",
     "output_type": "stream",
     "text": [
      "num Device:  2\n",
      "[PhysicalDevice(name='/physical_device:CPU:0', device_type='CPU'), PhysicalDevice(name='/physical_device:GPU:0', device_type='GPU')]\n"
     ]
    }
   ],
   "source": [
    "print('num Device: ',len(tf.config.experimental.list_physical_devices())) #cek device, apakah GPU/CPU sudah connect/belum\n",
    "print(tf.config.experimental.list_physical_devices())"
   ]
  },
  {
   "cell_type": "markdown",
   "id": "c0d29297-a2f2-4c38-b4c3-5874cf8515e1",
   "metadata": {},
   "source": [
    "# READING DATA\n",
    "\n",
    "### data yang saya ambil adalah data yang memprediksi apakah seseorang mempunyai diabetes/tidak berdasarkan ciri ciri/features yang ada"
   ]
  },
  {
   "cell_type": "code",
   "execution_count": 4,
   "id": "d50082fd-0fe1-4c4e-b94f-f766304d8346",
   "metadata": {},
   "outputs": [
    {
     "data": {
      "text/html": [
       "<div>\n",
       "<style scoped>\n",
       "    .dataframe tbody tr th:only-of-type {\n",
       "        vertical-align: middle;\n",
       "    }\n",
       "\n",
       "    .dataframe tbody tr th {\n",
       "        vertical-align: top;\n",
       "    }\n",
       "\n",
       "    .dataframe thead th {\n",
       "        text-align: right;\n",
       "    }\n",
       "</style>\n",
       "<table border=\"1\" class=\"dataframe\">\n",
       "  <thead>\n",
       "    <tr style=\"text-align: right;\">\n",
       "      <th></th>\n",
       "      <th>gender</th>\n",
       "      <th>age</th>\n",
       "      <th>hypertension</th>\n",
       "      <th>heart_disease</th>\n",
       "      <th>smoking_history</th>\n",
       "      <th>bmi</th>\n",
       "      <th>HbA1c_level</th>\n",
       "      <th>blood_glucose_level</th>\n",
       "      <th>diabetes</th>\n",
       "    </tr>\n",
       "  </thead>\n",
       "  <tbody>\n",
       "    <tr>\n",
       "      <th>0</th>\n",
       "      <td>Female</td>\n",
       "      <td>80.0</td>\n",
       "      <td>0</td>\n",
       "      <td>1</td>\n",
       "      <td>never</td>\n",
       "      <td>25.19</td>\n",
       "      <td>6.6</td>\n",
       "      <td>140</td>\n",
       "      <td>0</td>\n",
       "    </tr>\n",
       "    <tr>\n",
       "      <th>1</th>\n",
       "      <td>Female</td>\n",
       "      <td>54.0</td>\n",
       "      <td>0</td>\n",
       "      <td>0</td>\n",
       "      <td>No Info</td>\n",
       "      <td>27.32</td>\n",
       "      <td>6.6</td>\n",
       "      <td>80</td>\n",
       "      <td>0</td>\n",
       "    </tr>\n",
       "    <tr>\n",
       "      <th>2</th>\n",
       "      <td>Male</td>\n",
       "      <td>28.0</td>\n",
       "      <td>0</td>\n",
       "      <td>0</td>\n",
       "      <td>never</td>\n",
       "      <td>27.32</td>\n",
       "      <td>5.7</td>\n",
       "      <td>158</td>\n",
       "      <td>0</td>\n",
       "    </tr>\n",
       "    <tr>\n",
       "      <th>3</th>\n",
       "      <td>Female</td>\n",
       "      <td>36.0</td>\n",
       "      <td>0</td>\n",
       "      <td>0</td>\n",
       "      <td>current</td>\n",
       "      <td>23.45</td>\n",
       "      <td>5.0</td>\n",
       "      <td>155</td>\n",
       "      <td>0</td>\n",
       "    </tr>\n",
       "    <tr>\n",
       "      <th>4</th>\n",
       "      <td>Male</td>\n",
       "      <td>76.0</td>\n",
       "      <td>1</td>\n",
       "      <td>1</td>\n",
       "      <td>current</td>\n",
       "      <td>20.14</td>\n",
       "      <td>4.8</td>\n",
       "      <td>155</td>\n",
       "      <td>0</td>\n",
       "    </tr>\n",
       "  </tbody>\n",
       "</table>\n",
       "</div>"
      ],
      "text/plain": [
       "   gender   age  hypertension  heart_disease smoking_history    bmi  \\\n",
       "0  Female  80.0             0              1           never  25.19   \n",
       "1  Female  54.0             0              0         No Info  27.32   \n",
       "2    Male  28.0             0              0           never  27.32   \n",
       "3  Female  36.0             0              0         current  23.45   \n",
       "4    Male  76.0             1              1         current  20.14   \n",
       "\n",
       "   HbA1c_level  blood_glucose_level  diabetes  \n",
       "0          6.6                  140         0  \n",
       "1          6.6                   80         0  \n",
       "2          5.7                  158         0  \n",
       "3          5.0                  155         0  \n",
       "4          4.8                  155         0  "
      ]
     },
     "execution_count": 4,
     "metadata": {},
     "output_type": "execute_result"
    }
   ],
   "source": [
    "# code ini menggunakan library pandas untuk read dataset csv\n",
    "df = pd.read_csv('diabetes_prediction_dataset.csv') \n",
    "df.head() #menampilkan 5 data teratas"
   ]
  },
  {
   "cell_type": "markdown",
   "id": "fd5ff2da-461d-46ec-85c9-58a514ed2c85",
   "metadata": {},
   "source": [
    "# Preprocessing"
   ]
  },
  {
   "cell_type": "code",
   "execution_count": 5,
   "id": "f32dcc0c-b272-4ac9-b5a7-31a7d9d0bd21",
   "metadata": {},
   "outputs": [
    {
     "name": "stdout",
     "output_type": "stream",
     "text": [
      "<class 'pandas.core.frame.DataFrame'>\n",
      "RangeIndex: 100000 entries, 0 to 99999\n",
      "Data columns (total 9 columns):\n",
      " #   Column               Non-Null Count   Dtype  \n",
      "---  ------               --------------   -----  \n",
      " 0   gender               100000 non-null  object \n",
      " 1   age                  100000 non-null  float64\n",
      " 2   hypertension         100000 non-null  int64  \n",
      " 3   heart_disease        100000 non-null  int64  \n",
      " 4   smoking_history      100000 non-null  object \n",
      " 5   bmi                  100000 non-null  float64\n",
      " 6   HbA1c_level          100000 non-null  float64\n",
      " 7   blood_glucose_level  100000 non-null  int64  \n",
      " 8   diabetes             100000 non-null  int64  \n",
      "dtypes: float64(3), int64(4), object(2)\n",
      "memory usage: 6.9+ MB\n"
     ]
    }
   ],
   "source": [
    "# menampilkan seluruh kolom + jumlah row, melihat tipe data tiap kolom, sekaligus melihat apakah ada missing value/tidak\n",
    "df.info()"
   ]
  },
  {
   "cell_type": "code",
   "execution_count": 6,
   "id": "3becd0f8-9c52-4a3b-913f-e8c16705c299",
   "metadata": {},
   "outputs": [
    {
     "data": {
      "text/plain": [
       "(100000, 9)"
      ]
     },
     "execution_count": 6,
     "metadata": {},
     "output_type": "execute_result"
    }
   ],
   "source": [
    "df.shape #melihat dimensi data (row, col)"
   ]
  },
  {
   "cell_type": "markdown",
   "id": "c1338951-f3dd-4684-a329-e0a616525f6c",
   "metadata": {},
   "source": [
    "#### dari info diatas, bisa dilihat dari total 100000 entries, tidak ada sama sekali kolom yang mengandung null values "
   ]
  },
  {
   "cell_type": "code",
   "execution_count": 7,
   "id": "7f1764e2-c565-428a-bcda-e8d582347c26",
   "metadata": {},
   "outputs": [
    {
     "data": {
      "text/plain": [
       "3854"
      ]
     },
     "execution_count": 7,
     "metadata": {},
     "output_type": "execute_result"
    }
   ],
   "source": [
    "df.duplicated().sum() #melihat kolom yang duplikat = kolom duplikat berarti row nya sama persis dengan row lain"
   ]
  },
  {
   "cell_type": "code",
   "execution_count": 8,
   "id": "fb3e8915-c015-44df-b506-b052c4b84ef4",
   "metadata": {},
   "outputs": [
    {
     "data": {
      "text/plain": [
       "0"
      ]
     },
     "execution_count": 8,
     "metadata": {},
     "output_type": "execute_result"
    }
   ],
   "source": [
    "df.drop_duplicates(inplace=True) #drop kolom duplicate\n",
    "df.duplicated().sum() #cek lagi duplikatnya"
   ]
  },
  {
   "cell_type": "markdown",
   "id": "3af0041b-79f7-437a-a883-bbc911e59cdf",
   "metadata": {},
   "source": [
    "### Split Columns"
   ]
  },
  {
   "cell_type": "code",
   "execution_count": 9,
   "id": "04bf0e41-13b8-41d1-abea-7deeff5c1e46",
   "metadata": {},
   "outputs": [],
   "source": [
    "num_cols = [] #list utk numerical cols\n",
    "cat_cols = [] #list utk categorical cols\n",
    " \n",
    "for col in df.columns: #untuk setiap kolom di dataframe\n",
    "    if df[col].dtype == 'object': #jika dia tipe datanya object, masuk (append) ke dalam cat_cols\n",
    "        cat_cols.append(col)\n",
    "    else: #jika bukan, maka masuk ke num_cols\n",
    "        num_cols.append(col)"
   ]
  },
  {
   "cell_type": "code",
   "execution_count": 10,
   "id": "f5effe2b-40ee-4a5a-9985-3724a7e93908",
   "metadata": {},
   "outputs": [],
   "source": [
    "#hypertension dan heart_disease itu merupakan kolom yang sudah di encode, yang berarti merupakan sebuah categorical data, maka dari itu ditambahkan ke cat_cols\n",
    "cat_cols.extend(['hypertension', 'heart_disease'])\n",
    "for col in ['hypertension', 'heart_disease']: #jangan lupa hapus di num_cols\n",
    "    num_cols.remove(col)"
   ]
  },
  {
   "cell_type": "code",
   "execution_count": 11,
   "id": "61dce8e7-b84e-4d33-b0b1-d885b288dca2",
   "metadata": {},
   "outputs": [
    {
     "name": "stdout",
     "output_type": "stream",
     "text": [
      "['age', 'bmi', 'HbA1c_level', 'blood_glucose_level', 'diabetes']\n",
      "['gender', 'smoking_history', 'hypertension', 'heart_disease']\n"
     ]
    }
   ],
   "source": [
    "print(num_cols)\n",
    "print(cat_cols)"
   ]
  },
  {
   "cell_type": "markdown",
   "id": "d157dea2-55ca-494a-8e29-567f6e576ed3",
   "metadata": {},
   "source": [
    "##### cek unique kolom kategorik"
   ]
  },
  {
   "cell_type": "code",
   "execution_count": 12,
   "id": "3ee41542-b8a3-42e6-ab1e-bd2c7304e1b5",
   "metadata": {},
   "outputs": [
    {
     "name": "stdout",
     "output_type": "stream",
     "text": [
      "['Female' 'Male' 'Other']\n",
      "['never' 'No Info' 'current' 'former' 'ever' 'not current']\n",
      "[0 1]\n",
      "[1 0]\n"
     ]
    }
   ],
   "source": [
    "for col in cat_cols: #untuk setiap kolom di categorical kolom\n",
    "    print(df[col].unique()) #cari unique value, supaya kalo misalkan ada Typo atau inkonsistensi dalam penamaan value, bisa di-replace"
   ]
  },
  {
   "cell_type": "markdown",
   "id": "5f4eae53-b92c-496b-a5c1-1119ced54828",
   "metadata": {},
   "source": [
    "##### disini saya asumsikan bahwa ever dan not current adalah bagian dari former"
   ]
  },
  {
   "cell_type": "code",
   "execution_count": 13,
   "id": "b06e010b-81c5-4798-9620-3ee8561c9d4c",
   "metadata": {},
   "outputs": [],
   "source": [
    "#looping untuk me-replace ever dan not current dengan former\n",
    "for i in ['ever', 'not current']:\n",
    "    df['smoking_history'] = df['smoking_history'].replace({'ever': 'former', 'not current': 'former'}) "
   ]
  },
  {
   "cell_type": "code",
   "execution_count": 14,
   "id": "9aa000bd-8ba6-47d8-a3cf-6ef7c86e4a81",
   "metadata": {},
   "outputs": [
    {
     "data": {
      "text/plain": [
       "smoking_history\n",
       "never      34398\n",
       "No Info    32887\n",
       "former     19664\n",
       "current     9197\n",
       "Name: count, dtype: int64"
      ]
     },
     "execution_count": 14,
     "metadata": {},
     "output_type": "execute_result"
    }
   ],
   "source": [
    "df['smoking_history'].value_counts() #kembali cek unique valuenya"
   ]
  },
  {
   "cell_type": "markdown",
   "id": "8d0a08bf-05c1-4b59-922f-e873d8e08ff4",
   "metadata": {},
   "source": [
    "### Splitting Features and Target"
   ]
  },
  {
   "cell_type": "code",
   "execution_count": 15,
   "id": "836f1d33-5d95-4ad7-a04a-c8d18a8143db",
   "metadata": {},
   "outputs": [],
   "source": [
    "x = df.drop(['diabetes'],axis=1) #memisahkan X (features) dan Y (target)\n",
    "y = df['diabetes']"
   ]
  },
  {
   "cell_type": "code",
   "execution_count": 16,
   "id": "eb6ffa37-6de8-4148-8964-d13b753eb179",
   "metadata": {},
   "outputs": [
    {
     "data": {
      "text/html": [
       "<div>\n",
       "<style scoped>\n",
       "    .dataframe tbody tr th:only-of-type {\n",
       "        vertical-align: middle;\n",
       "    }\n",
       "\n",
       "    .dataframe tbody tr th {\n",
       "        vertical-align: top;\n",
       "    }\n",
       "\n",
       "    .dataframe thead th {\n",
       "        text-align: right;\n",
       "    }\n",
       "</style>\n",
       "<table border=\"1\" class=\"dataframe\">\n",
       "  <thead>\n",
       "    <tr style=\"text-align: right;\">\n",
       "      <th></th>\n",
       "      <th>gender</th>\n",
       "      <th>age</th>\n",
       "      <th>hypertension</th>\n",
       "      <th>heart_disease</th>\n",
       "      <th>smoking_history</th>\n",
       "      <th>bmi</th>\n",
       "      <th>HbA1c_level</th>\n",
       "      <th>blood_glucose_level</th>\n",
       "    </tr>\n",
       "  </thead>\n",
       "  <tbody>\n",
       "    <tr>\n",
       "      <th>0</th>\n",
       "      <td>Female</td>\n",
       "      <td>80.0</td>\n",
       "      <td>0</td>\n",
       "      <td>1</td>\n",
       "      <td>never</td>\n",
       "      <td>25.19</td>\n",
       "      <td>6.6</td>\n",
       "      <td>140</td>\n",
       "    </tr>\n",
       "    <tr>\n",
       "      <th>1</th>\n",
       "      <td>Female</td>\n",
       "      <td>54.0</td>\n",
       "      <td>0</td>\n",
       "      <td>0</td>\n",
       "      <td>No Info</td>\n",
       "      <td>27.32</td>\n",
       "      <td>6.6</td>\n",
       "      <td>80</td>\n",
       "    </tr>\n",
       "    <tr>\n",
       "      <th>2</th>\n",
       "      <td>Male</td>\n",
       "      <td>28.0</td>\n",
       "      <td>0</td>\n",
       "      <td>0</td>\n",
       "      <td>never</td>\n",
       "      <td>27.32</td>\n",
       "      <td>5.7</td>\n",
       "      <td>158</td>\n",
       "    </tr>\n",
       "    <tr>\n",
       "      <th>3</th>\n",
       "      <td>Female</td>\n",
       "      <td>36.0</td>\n",
       "      <td>0</td>\n",
       "      <td>0</td>\n",
       "      <td>current</td>\n",
       "      <td>23.45</td>\n",
       "      <td>5.0</td>\n",
       "      <td>155</td>\n",
       "    </tr>\n",
       "    <tr>\n",
       "      <th>4</th>\n",
       "      <td>Male</td>\n",
       "      <td>76.0</td>\n",
       "      <td>1</td>\n",
       "      <td>1</td>\n",
       "      <td>current</td>\n",
       "      <td>20.14</td>\n",
       "      <td>4.8</td>\n",
       "      <td>155</td>\n",
       "    </tr>\n",
       "    <tr>\n",
       "      <th>...</th>\n",
       "      <td>...</td>\n",
       "      <td>...</td>\n",
       "      <td>...</td>\n",
       "      <td>...</td>\n",
       "      <td>...</td>\n",
       "      <td>...</td>\n",
       "      <td>...</td>\n",
       "      <td>...</td>\n",
       "    </tr>\n",
       "    <tr>\n",
       "      <th>99994</th>\n",
       "      <td>Female</td>\n",
       "      <td>36.0</td>\n",
       "      <td>0</td>\n",
       "      <td>0</td>\n",
       "      <td>No Info</td>\n",
       "      <td>24.60</td>\n",
       "      <td>4.8</td>\n",
       "      <td>145</td>\n",
       "    </tr>\n",
       "    <tr>\n",
       "      <th>99996</th>\n",
       "      <td>Female</td>\n",
       "      <td>2.0</td>\n",
       "      <td>0</td>\n",
       "      <td>0</td>\n",
       "      <td>No Info</td>\n",
       "      <td>17.37</td>\n",
       "      <td>6.5</td>\n",
       "      <td>100</td>\n",
       "    </tr>\n",
       "    <tr>\n",
       "      <th>99997</th>\n",
       "      <td>Male</td>\n",
       "      <td>66.0</td>\n",
       "      <td>0</td>\n",
       "      <td>0</td>\n",
       "      <td>former</td>\n",
       "      <td>27.83</td>\n",
       "      <td>5.7</td>\n",
       "      <td>155</td>\n",
       "    </tr>\n",
       "    <tr>\n",
       "      <th>99998</th>\n",
       "      <td>Female</td>\n",
       "      <td>24.0</td>\n",
       "      <td>0</td>\n",
       "      <td>0</td>\n",
       "      <td>never</td>\n",
       "      <td>35.42</td>\n",
       "      <td>4.0</td>\n",
       "      <td>100</td>\n",
       "    </tr>\n",
       "    <tr>\n",
       "      <th>99999</th>\n",
       "      <td>Female</td>\n",
       "      <td>57.0</td>\n",
       "      <td>0</td>\n",
       "      <td>0</td>\n",
       "      <td>current</td>\n",
       "      <td>22.43</td>\n",
       "      <td>6.6</td>\n",
       "      <td>90</td>\n",
       "    </tr>\n",
       "  </tbody>\n",
       "</table>\n",
       "<p>96146 rows × 8 columns</p>\n",
       "</div>"
      ],
      "text/plain": [
       "       gender   age  hypertension  heart_disease smoking_history    bmi  \\\n",
       "0      Female  80.0             0              1           never  25.19   \n",
       "1      Female  54.0             0              0         No Info  27.32   \n",
       "2        Male  28.0             0              0           never  27.32   \n",
       "3      Female  36.0             0              0         current  23.45   \n",
       "4        Male  76.0             1              1         current  20.14   \n",
       "...       ...   ...           ...            ...             ...    ...   \n",
       "99994  Female  36.0             0              0         No Info  24.60   \n",
       "99996  Female   2.0             0              0         No Info  17.37   \n",
       "99997    Male  66.0             0              0          former  27.83   \n",
       "99998  Female  24.0             0              0           never  35.42   \n",
       "99999  Female  57.0             0              0         current  22.43   \n",
       "\n",
       "       HbA1c_level  blood_glucose_level  \n",
       "0              6.6                  140  \n",
       "1              6.6                   80  \n",
       "2              5.7                  158  \n",
       "3              5.0                  155  \n",
       "4              4.8                  155  \n",
       "...            ...                  ...  \n",
       "99994          4.8                  145  \n",
       "99996          6.5                  100  \n",
       "99997          5.7                  155  \n",
       "99998          4.0                  100  \n",
       "99999          6.6                   90  \n",
       "\n",
       "[96146 rows x 8 columns]"
      ]
     },
     "execution_count": 16,
     "metadata": {},
     "output_type": "execute_result"
    }
   ],
   "source": [
    "x"
   ]
  },
  {
   "cell_type": "code",
   "execution_count": 17,
   "id": "d12ab4d6-1615-4b16-97c6-1b2fb90ed25c",
   "metadata": {},
   "outputs": [
    {
     "data": {
      "text/plain": [
       "0    0\n",
       "1    0\n",
       "2    0\n",
       "3    0\n",
       "4    0\n",
       "Name: diabetes, dtype: int64"
      ]
     },
     "execution_count": 17,
     "metadata": {},
     "output_type": "execute_result"
    }
   ],
   "source": [
    "y.head()"
   ]
  },
  {
   "cell_type": "code",
   "execution_count": 18,
   "id": "ab95bb80-b57c-4e92-bcb9-7b659e5d29b6",
   "metadata": {},
   "outputs": [
    {
     "name": "stdout",
     "output_type": "stream",
     "text": [
      "diabetes\n",
      "0    87664\n",
      "1     8482\n",
      "Name: count, dtype: int64\n"
     ]
    }
   ],
   "source": [
    "class_distribution = y.value_counts() #menghitung distribusi Y sebagai target variable\n",
    "print(class_distribution)\n",
    "\n",
    "#bisa terlihat bahwa distribusinya tidak merata / imbalance, dimana orang yang tidak diabetes lebih banyak"
   ]
  },
  {
   "cell_type": "markdown",
   "id": "c98c1369-539a-4cdf-b1b5-714504e33448",
   "metadata": {},
   "source": [
    "# Split Train, Test, Validation data"
   ]
  },
  {
   "cell_type": "code",
   "execution_count": 19,
   "id": "caa5d646-556e-4482-896c-30890add3773",
   "metadata": {},
   "outputs": [
    {
     "name": "stdout",
     "output_type": "stream",
     "text": [
      "(57687, 8) (57687,)\n",
      "(19229, 8) (19229,)\n",
      "(19230, 8) (19230,)\n"
     ]
    }
   ],
   "source": [
    "#split data x dan y menjadi x train test dan y train test dengan proporsi 80% training dan 20% testing, random state = SEED_VALUE yang berarti data yang di split selalu konsisten\n",
    "x_train,x_test,y_train,y_test = train_test_split(x,y, test_size = 0.2,random_state = SEED_VALUE)\n",
    "\n",
    "#split data training tadi yang 80%, lalu split menjadi x_train x_val dan y_train y_val, jadi 75% dari 80% tersebut akan digunakan untuk training sebenarnya, dan 25% untuk validasi\n",
    "x_train,x_val,y_train,y_val = train_test_split(x_train,y_train, test_size = 0.25,random_state = SEED_VALUE) \n",
    "print(x_train.shape,y_train.shape)\n",
    "print(x_val.shape,y_val.shape)\n",
    "print(x_test.shape,y_test.shape)"
   ]
  },
  {
   "cell_type": "markdown",
   "id": "0b0a4aa2-c906-42fe-8678-f8ac900d331a",
   "metadata": {},
   "source": [
    "##### setelah split train test dan val data, sekarang saya ingin melakukan preprocessing lebih lanjut yaitu encoding & scaling"
   ]
  },
  {
   "cell_type": "code",
   "execution_count": 20,
   "id": "8c714f49-bec4-4a15-a052-d7637ec76c6b",
   "metadata": {},
   "outputs": [],
   "source": [
    "ohe_encoder = OneHotEncoder(sparse_output=False, handle_unknown='ignore') #menggunakan ohe encoding karena valuenya itu lumayan banyak sekitar 3-4 dan tidak berurutan (ordinal) sehingga OHE pilihan yang tepat\n",
    "ohe_cols = ['gender', 'smoking_history']  # Hanya encode kolom ini\n",
    "\n",
    "# karena hyperextension dan heart_disease udh encoded, \n",
    "# berarti hanya perlu encode sisanya yang belum yaitu gender dan smoking history\n",
    "\n",
    "#melakukan proses OHE encoding ke x_train, x_val dan X_test\n",
    "new_cat_cols = ohe_encoder.fit_transform(x_train[ohe_cols])\n",
    "encoded_data = pd.DataFrame(new_cat_cols, columns=ohe_encoder.get_feature_names_out(ohe_cols))\n",
    "x_train = x_train.reset_index(drop=True)\n",
    "x_train = pd.concat([x_train.drop(ohe_cols, axis=1, errors='ignore'), encoded_data], axis=1)\n",
    "\n",
    "new_cat_cols = ohe_encoder.transform(x_val[ohe_cols])\n",
    "encoded_data = pd.DataFrame(new_cat_cols, columns=ohe_encoder.get_feature_names_out(ohe_cols))\n",
    "x_val = x_val.reset_index(drop=True)\n",
    "x_val = pd.concat([x_val.drop(ohe_cols,axis=1,errors='ignore'),encoded_data],axis=1)\n",
    "\n",
    "new_cat_cols = ohe_encoder.transform(x_test[ohe_cols])\n",
    "encoded_data = pd.DataFrame(new_cat_cols, columns=ohe_encoder.get_feature_names_out(ohe_cols))\n",
    "x_test = x_test.reset_index(drop=True)\n",
    "x_test = pd.concat([x_test.drop(ohe_cols,axis=1,errors='ignore'),encoded_data],axis=1)"
   ]
  },
  {
   "cell_type": "code",
   "execution_count": 21,
   "id": "14fb9796-1d20-400a-b38b-6e60c297f98f",
   "metadata": {},
   "outputs": [
    {
     "data": {
      "text/html": [
       "<div>\n",
       "<style scoped>\n",
       "    .dataframe tbody tr th:only-of-type {\n",
       "        vertical-align: middle;\n",
       "    }\n",
       "\n",
       "    .dataframe tbody tr th {\n",
       "        vertical-align: top;\n",
       "    }\n",
       "\n",
       "    .dataframe thead th {\n",
       "        text-align: right;\n",
       "    }\n",
       "</style>\n",
       "<table border=\"1\" class=\"dataframe\">\n",
       "  <thead>\n",
       "    <tr style=\"text-align: right;\">\n",
       "      <th></th>\n",
       "      <th>age</th>\n",
       "      <th>hypertension</th>\n",
       "      <th>heart_disease</th>\n",
       "      <th>bmi</th>\n",
       "      <th>HbA1c_level</th>\n",
       "      <th>blood_glucose_level</th>\n",
       "      <th>gender_Female</th>\n",
       "      <th>gender_Male</th>\n",
       "      <th>gender_Other</th>\n",
       "      <th>smoking_history_No Info</th>\n",
       "      <th>smoking_history_current</th>\n",
       "      <th>smoking_history_former</th>\n",
       "      <th>smoking_history_never</th>\n",
       "    </tr>\n",
       "  </thead>\n",
       "  <tbody>\n",
       "    <tr>\n",
       "      <th>0</th>\n",
       "      <td>66.0</td>\n",
       "      <td>0</td>\n",
       "      <td>0</td>\n",
       "      <td>28.06</td>\n",
       "      <td>4.8</td>\n",
       "      <td>130</td>\n",
       "      <td>1.0</td>\n",
       "      <td>0.0</td>\n",
       "      <td>0.0</td>\n",
       "      <td>1.0</td>\n",
       "      <td>0.0</td>\n",
       "      <td>0.0</td>\n",
       "      <td>0.0</td>\n",
       "    </tr>\n",
       "    <tr>\n",
       "      <th>1</th>\n",
       "      <td>34.0</td>\n",
       "      <td>0</td>\n",
       "      <td>0</td>\n",
       "      <td>27.32</td>\n",
       "      <td>6.2</td>\n",
       "      <td>126</td>\n",
       "      <td>0.0</td>\n",
       "      <td>1.0</td>\n",
       "      <td>0.0</td>\n",
       "      <td>0.0</td>\n",
       "      <td>0.0</td>\n",
       "      <td>0.0</td>\n",
       "      <td>1.0</td>\n",
       "    </tr>\n",
       "    <tr>\n",
       "      <th>2</th>\n",
       "      <td>49.0</td>\n",
       "      <td>0</td>\n",
       "      <td>0</td>\n",
       "      <td>21.14</td>\n",
       "      <td>5.7</td>\n",
       "      <td>85</td>\n",
       "      <td>1.0</td>\n",
       "      <td>0.0</td>\n",
       "      <td>0.0</td>\n",
       "      <td>1.0</td>\n",
       "      <td>0.0</td>\n",
       "      <td>0.0</td>\n",
       "      <td>0.0</td>\n",
       "    </tr>\n",
       "    <tr>\n",
       "      <th>3</th>\n",
       "      <td>53.0</td>\n",
       "      <td>0</td>\n",
       "      <td>0</td>\n",
       "      <td>30.06</td>\n",
       "      <td>6.1</td>\n",
       "      <td>140</td>\n",
       "      <td>0.0</td>\n",
       "      <td>1.0</td>\n",
       "      <td>0.0</td>\n",
       "      <td>1.0</td>\n",
       "      <td>0.0</td>\n",
       "      <td>0.0</td>\n",
       "      <td>0.0</td>\n",
       "    </tr>\n",
       "    <tr>\n",
       "      <th>4</th>\n",
       "      <td>28.0</td>\n",
       "      <td>0</td>\n",
       "      <td>0</td>\n",
       "      <td>25.37</td>\n",
       "      <td>4.5</td>\n",
       "      <td>130</td>\n",
       "      <td>1.0</td>\n",
       "      <td>0.0</td>\n",
       "      <td>0.0</td>\n",
       "      <td>1.0</td>\n",
       "      <td>0.0</td>\n",
       "      <td>0.0</td>\n",
       "      <td>0.0</td>\n",
       "    </tr>\n",
       "    <tr>\n",
       "      <th>...</th>\n",
       "      <td>...</td>\n",
       "      <td>...</td>\n",
       "      <td>...</td>\n",
       "      <td>...</td>\n",
       "      <td>...</td>\n",
       "      <td>...</td>\n",
       "      <td>...</td>\n",
       "      <td>...</td>\n",
       "      <td>...</td>\n",
       "      <td>...</td>\n",
       "      <td>...</td>\n",
       "      <td>...</td>\n",
       "      <td>...</td>\n",
       "    </tr>\n",
       "    <tr>\n",
       "      <th>19225</th>\n",
       "      <td>80.0</td>\n",
       "      <td>1</td>\n",
       "      <td>0</td>\n",
       "      <td>27.32</td>\n",
       "      <td>3.5</td>\n",
       "      <td>126</td>\n",
       "      <td>0.0</td>\n",
       "      <td>1.0</td>\n",
       "      <td>0.0</td>\n",
       "      <td>1.0</td>\n",
       "      <td>0.0</td>\n",
       "      <td>0.0</td>\n",
       "      <td>0.0</td>\n",
       "    </tr>\n",
       "    <tr>\n",
       "      <th>19226</th>\n",
       "      <td>72.0</td>\n",
       "      <td>1</td>\n",
       "      <td>0</td>\n",
       "      <td>26.26</td>\n",
       "      <td>6.0</td>\n",
       "      <td>145</td>\n",
       "      <td>0.0</td>\n",
       "      <td>1.0</td>\n",
       "      <td>0.0</td>\n",
       "      <td>1.0</td>\n",
       "      <td>0.0</td>\n",
       "      <td>0.0</td>\n",
       "      <td>0.0</td>\n",
       "    </tr>\n",
       "    <tr>\n",
       "      <th>19227</th>\n",
       "      <td>5.0</td>\n",
       "      <td>0</td>\n",
       "      <td>0</td>\n",
       "      <td>16.40</td>\n",
       "      <td>5.0</td>\n",
       "      <td>160</td>\n",
       "      <td>1.0</td>\n",
       "      <td>0.0</td>\n",
       "      <td>0.0</td>\n",
       "      <td>1.0</td>\n",
       "      <td>0.0</td>\n",
       "      <td>0.0</td>\n",
       "      <td>0.0</td>\n",
       "    </tr>\n",
       "    <tr>\n",
       "      <th>19228</th>\n",
       "      <td>53.0</td>\n",
       "      <td>0</td>\n",
       "      <td>0</td>\n",
       "      <td>24.15</td>\n",
       "      <td>4.5</td>\n",
       "      <td>145</td>\n",
       "      <td>0.0</td>\n",
       "      <td>1.0</td>\n",
       "      <td>0.0</td>\n",
       "      <td>1.0</td>\n",
       "      <td>0.0</td>\n",
       "      <td>0.0</td>\n",
       "      <td>0.0</td>\n",
       "    </tr>\n",
       "    <tr>\n",
       "      <th>19229</th>\n",
       "      <td>45.0</td>\n",
       "      <td>0</td>\n",
       "      <td>0</td>\n",
       "      <td>27.32</td>\n",
       "      <td>5.0</td>\n",
       "      <td>159</td>\n",
       "      <td>0.0</td>\n",
       "      <td>1.0</td>\n",
       "      <td>0.0</td>\n",
       "      <td>1.0</td>\n",
       "      <td>0.0</td>\n",
       "      <td>0.0</td>\n",
       "      <td>0.0</td>\n",
       "    </tr>\n",
       "  </tbody>\n",
       "</table>\n",
       "<p>19230 rows × 13 columns</p>\n",
       "</div>"
      ],
      "text/plain": [
       "        age  hypertension  heart_disease    bmi  HbA1c_level  \\\n",
       "0      66.0             0              0  28.06          4.8   \n",
       "1      34.0             0              0  27.32          6.2   \n",
       "2      49.0             0              0  21.14          5.7   \n",
       "3      53.0             0              0  30.06          6.1   \n",
       "4      28.0             0              0  25.37          4.5   \n",
       "...     ...           ...            ...    ...          ...   \n",
       "19225  80.0             1              0  27.32          3.5   \n",
       "19226  72.0             1              0  26.26          6.0   \n",
       "19227   5.0             0              0  16.40          5.0   \n",
       "19228  53.0             0              0  24.15          4.5   \n",
       "19229  45.0             0              0  27.32          5.0   \n",
       "\n",
       "       blood_glucose_level  gender_Female  gender_Male  gender_Other  \\\n",
       "0                      130            1.0          0.0           0.0   \n",
       "1                      126            0.0          1.0           0.0   \n",
       "2                       85            1.0          0.0           0.0   \n",
       "3                      140            0.0          1.0           0.0   \n",
       "4                      130            1.0          0.0           0.0   \n",
       "...                    ...            ...          ...           ...   \n",
       "19225                  126            0.0          1.0           0.0   \n",
       "19226                  145            0.0          1.0           0.0   \n",
       "19227                  160            1.0          0.0           0.0   \n",
       "19228                  145            0.0          1.0           0.0   \n",
       "19229                  159            0.0          1.0           0.0   \n",
       "\n",
       "       smoking_history_No Info  smoking_history_current  \\\n",
       "0                          1.0                      0.0   \n",
       "1                          0.0                      0.0   \n",
       "2                          1.0                      0.0   \n",
       "3                          1.0                      0.0   \n",
       "4                          1.0                      0.0   \n",
       "...                        ...                      ...   \n",
       "19225                      1.0                      0.0   \n",
       "19226                      1.0                      0.0   \n",
       "19227                      1.0                      0.0   \n",
       "19228                      1.0                      0.0   \n",
       "19229                      1.0                      0.0   \n",
       "\n",
       "       smoking_history_former  smoking_history_never  \n",
       "0                         0.0                    0.0  \n",
       "1                         0.0                    1.0  \n",
       "2                         0.0                    0.0  \n",
       "3                         0.0                    0.0  \n",
       "4                         0.0                    0.0  \n",
       "...                       ...                    ...  \n",
       "19225                     0.0                    0.0  \n",
       "19226                     0.0                    0.0  \n",
       "19227                     0.0                    0.0  \n",
       "19228                     0.0                    0.0  \n",
       "19229                     0.0                    0.0  \n",
       "\n",
       "[19230 rows x 13 columns]"
      ]
     },
     "execution_count": 21,
     "metadata": {},
     "output_type": "execute_result"
    }
   ],
   "source": [
    "x_test"
   ]
  },
  {
   "cell_type": "code",
   "execution_count": 22,
   "id": "2dc4f87c-795d-4f16-8ac0-9b2469749468",
   "metadata": {},
   "outputs": [],
   "source": [
    "#drop kolom gender Other dan smoking_history no info karena mereka merupakan data yang kosong/tidak ada informasi, dengan OHE, maka data kosong tersebut bisa diwakilkan di kolom yang tersisa jika semua kolom bernilai 0\n",
    "x_test.drop(columns=['gender_Other', 'smoking_history_No Info'], inplace=True)\n",
    "x_val.drop(columns=['gender_Other', 'smoking_history_No Info'], inplace=True)\n",
    "x_train.drop(columns=['gender_Other', 'smoking_history_No Info'], inplace=True)"
   ]
  },
  {
   "cell_type": "code",
   "execution_count": 23,
   "id": "c5ba7569-f731-4154-8abe-8901c8a82066",
   "metadata": {},
   "outputs": [
    {
     "data": {
      "text/html": [
       "<div>\n",
       "<style scoped>\n",
       "    .dataframe tbody tr th:only-of-type {\n",
       "        vertical-align: middle;\n",
       "    }\n",
       "\n",
       "    .dataframe tbody tr th {\n",
       "        vertical-align: top;\n",
       "    }\n",
       "\n",
       "    .dataframe thead th {\n",
       "        text-align: right;\n",
       "    }\n",
       "</style>\n",
       "<table border=\"1\" class=\"dataframe\">\n",
       "  <thead>\n",
       "    <tr style=\"text-align: right;\">\n",
       "      <th></th>\n",
       "      <th>age</th>\n",
       "      <th>hypertension</th>\n",
       "      <th>heart_disease</th>\n",
       "      <th>bmi</th>\n",
       "      <th>HbA1c_level</th>\n",
       "      <th>blood_glucose_level</th>\n",
       "      <th>gender_Female</th>\n",
       "      <th>gender_Male</th>\n",
       "      <th>smoking_history_current</th>\n",
       "      <th>smoking_history_former</th>\n",
       "      <th>smoking_history_never</th>\n",
       "    </tr>\n",
       "  </thead>\n",
       "  <tbody>\n",
       "    <tr>\n",
       "      <th>0</th>\n",
       "      <td>30.0</td>\n",
       "      <td>0</td>\n",
       "      <td>0</td>\n",
       "      <td>31.30</td>\n",
       "      <td>6.5</td>\n",
       "      <td>140</td>\n",
       "      <td>0.0</td>\n",
       "      <td>1.0</td>\n",
       "      <td>0.0</td>\n",
       "      <td>0.0</td>\n",
       "      <td>1.0</td>\n",
       "    </tr>\n",
       "    <tr>\n",
       "      <th>1</th>\n",
       "      <td>13.0</td>\n",
       "      <td>0</td>\n",
       "      <td>0</td>\n",
       "      <td>29.09</td>\n",
       "      <td>5.8</td>\n",
       "      <td>200</td>\n",
       "      <td>1.0</td>\n",
       "      <td>0.0</td>\n",
       "      <td>0.0</td>\n",
       "      <td>0.0</td>\n",
       "      <td>0.0</td>\n",
       "    </tr>\n",
       "    <tr>\n",
       "      <th>2</th>\n",
       "      <td>75.0</td>\n",
       "      <td>0</td>\n",
       "      <td>1</td>\n",
       "      <td>27.32</td>\n",
       "      <td>5.7</td>\n",
       "      <td>90</td>\n",
       "      <td>0.0</td>\n",
       "      <td>1.0</td>\n",
       "      <td>0.0</td>\n",
       "      <td>0.0</td>\n",
       "      <td>0.0</td>\n",
       "    </tr>\n",
       "    <tr>\n",
       "      <th>3</th>\n",
       "      <td>52.0</td>\n",
       "      <td>0</td>\n",
       "      <td>0</td>\n",
       "      <td>27.32</td>\n",
       "      <td>6.6</td>\n",
       "      <td>160</td>\n",
       "      <td>0.0</td>\n",
       "      <td>1.0</td>\n",
       "      <td>0.0</td>\n",
       "      <td>0.0</td>\n",
       "      <td>0.0</td>\n",
       "    </tr>\n",
       "    <tr>\n",
       "      <th>4</th>\n",
       "      <td>14.0</td>\n",
       "      <td>0</td>\n",
       "      <td>0</td>\n",
       "      <td>22.82</td>\n",
       "      <td>6.0</td>\n",
       "      <td>130</td>\n",
       "      <td>0.0</td>\n",
       "      <td>1.0</td>\n",
       "      <td>0.0</td>\n",
       "      <td>0.0</td>\n",
       "      <td>1.0</td>\n",
       "    </tr>\n",
       "    <tr>\n",
       "      <th>...</th>\n",
       "      <td>...</td>\n",
       "      <td>...</td>\n",
       "      <td>...</td>\n",
       "      <td>...</td>\n",
       "      <td>...</td>\n",
       "      <td>...</td>\n",
       "      <td>...</td>\n",
       "      <td>...</td>\n",
       "      <td>...</td>\n",
       "      <td>...</td>\n",
       "      <td>...</td>\n",
       "    </tr>\n",
       "    <tr>\n",
       "      <th>57682</th>\n",
       "      <td>33.0</td>\n",
       "      <td>0</td>\n",
       "      <td>0</td>\n",
       "      <td>27.50</td>\n",
       "      <td>5.7</td>\n",
       "      <td>85</td>\n",
       "      <td>0.0</td>\n",
       "      <td>1.0</td>\n",
       "      <td>0.0</td>\n",
       "      <td>0.0</td>\n",
       "      <td>1.0</td>\n",
       "    </tr>\n",
       "    <tr>\n",
       "      <th>57683</th>\n",
       "      <td>16.0</td>\n",
       "      <td>0</td>\n",
       "      <td>0</td>\n",
       "      <td>24.59</td>\n",
       "      <td>6.6</td>\n",
       "      <td>100</td>\n",
       "      <td>0.0</td>\n",
       "      <td>1.0</td>\n",
       "      <td>0.0</td>\n",
       "      <td>0.0</td>\n",
       "      <td>0.0</td>\n",
       "    </tr>\n",
       "    <tr>\n",
       "      <th>57684</th>\n",
       "      <td>46.0</td>\n",
       "      <td>0</td>\n",
       "      <td>0</td>\n",
       "      <td>32.98</td>\n",
       "      <td>3.5</td>\n",
       "      <td>159</td>\n",
       "      <td>0.0</td>\n",
       "      <td>1.0</td>\n",
       "      <td>0.0</td>\n",
       "      <td>0.0</td>\n",
       "      <td>1.0</td>\n",
       "    </tr>\n",
       "    <tr>\n",
       "      <th>57685</th>\n",
       "      <td>80.0</td>\n",
       "      <td>0</td>\n",
       "      <td>0</td>\n",
       "      <td>27.32</td>\n",
       "      <td>5.7</td>\n",
       "      <td>140</td>\n",
       "      <td>1.0</td>\n",
       "      <td>0.0</td>\n",
       "      <td>0.0</td>\n",
       "      <td>0.0</td>\n",
       "      <td>0.0</td>\n",
       "    </tr>\n",
       "    <tr>\n",
       "      <th>57686</th>\n",
       "      <td>49.0</td>\n",
       "      <td>0</td>\n",
       "      <td>0</td>\n",
       "      <td>27.32</td>\n",
       "      <td>3.5</td>\n",
       "      <td>158</td>\n",
       "      <td>0.0</td>\n",
       "      <td>1.0</td>\n",
       "      <td>1.0</td>\n",
       "      <td>0.0</td>\n",
       "      <td>0.0</td>\n",
       "    </tr>\n",
       "  </tbody>\n",
       "</table>\n",
       "<p>57687 rows × 11 columns</p>\n",
       "</div>"
      ],
      "text/plain": [
       "        age  hypertension  heart_disease    bmi  HbA1c_level  \\\n",
       "0      30.0             0              0  31.30          6.5   \n",
       "1      13.0             0              0  29.09          5.8   \n",
       "2      75.0             0              1  27.32          5.7   \n",
       "3      52.0             0              0  27.32          6.6   \n",
       "4      14.0             0              0  22.82          6.0   \n",
       "...     ...           ...            ...    ...          ...   \n",
       "57682  33.0             0              0  27.50          5.7   \n",
       "57683  16.0             0              0  24.59          6.6   \n",
       "57684  46.0             0              0  32.98          3.5   \n",
       "57685  80.0             0              0  27.32          5.7   \n",
       "57686  49.0             0              0  27.32          3.5   \n",
       "\n",
       "       blood_glucose_level  gender_Female  gender_Male  \\\n",
       "0                      140            0.0          1.0   \n",
       "1                      200            1.0          0.0   \n",
       "2                       90            0.0          1.0   \n",
       "3                      160            0.0          1.0   \n",
       "4                      130            0.0          1.0   \n",
       "...                    ...            ...          ...   \n",
       "57682                   85            0.0          1.0   \n",
       "57683                  100            0.0          1.0   \n",
       "57684                  159            0.0          1.0   \n",
       "57685                  140            1.0          0.0   \n",
       "57686                  158            0.0          1.0   \n",
       "\n",
       "       smoking_history_current  smoking_history_former  smoking_history_never  \n",
       "0                          0.0                     0.0                    1.0  \n",
       "1                          0.0                     0.0                    0.0  \n",
       "2                          0.0                     0.0                    0.0  \n",
       "3                          0.0                     0.0                    0.0  \n",
       "4                          0.0                     0.0                    1.0  \n",
       "...                        ...                     ...                    ...  \n",
       "57682                      0.0                     0.0                    1.0  \n",
       "57683                      0.0                     0.0                    0.0  \n",
       "57684                      0.0                     0.0                    1.0  \n",
       "57685                      0.0                     0.0                    0.0  \n",
       "57686                      1.0                     0.0                    0.0  \n",
       "\n",
       "[57687 rows x 11 columns]"
      ]
     },
     "execution_count": 23,
     "metadata": {},
     "output_type": "execute_result"
    }
   ],
   "source": [
    "x_train"
   ]
  },
  {
   "cell_type": "code",
   "execution_count": 24,
   "id": "91eb009a-e102-47f6-8eff-149bb5772a21",
   "metadata": {},
   "outputs": [],
   "source": [
    "num_cols.remove('diabetes') #sebelum kita scaling, kita remove dulu target variable karena berupa categorical 0 dan 1"
   ]
  },
  {
   "cell_type": "code",
   "execution_count": 25,
   "id": "1402db44-4af1-4937-8fea-5d8ab4689c3b",
   "metadata": {},
   "outputs": [],
   "source": [
    "scaler = StandardScaler() #menggunakan standard scaler untuk merubah angka menjadi lebih mudah dibaca oleh komputer (berlaku ke data train, val, test)\n",
    "x_train[num_cols] = scaler.fit_transform(x_train[num_cols])\n",
    "x_val[num_cols] = scaler.transform(x_val[num_cols])\n",
    "x_test[num_cols] = scaler.transform(x_test[num_cols])"
   ]
  },
  {
   "cell_type": "markdown",
   "id": "248d547e-e16d-4ad2-a39b-4b1b1f791d3c",
   "metadata": {},
   "source": [
    "# build model"
   ]
  },
  {
   "cell_type": "code",
   "execution_count": 26,
   "id": "34480bd2-bbea-4c7b-9fb8-ed230dc6fa84",
   "metadata": {},
   "outputs": [],
   "source": [
    "#mulai membuat model, disini menggabungkan data training, testing, val bagi x dan y menjadi satu kesatuan tensor dataset dengan batch pembagian data 32 dan shuffle yang berarti mengacak urutan data, sehingga tidak mengambil data yang berurutan karena berpotensi bias, apalagi untuk training\n",
    "train_ds = tf.data.Dataset.from_tensor_slices((x_train,y_train)).batch(32).shuffle(10)\n",
    "test_ds = tf.data.Dataset.from_tensor_slices((x_test,y_test)).batch(32)\n",
    "val_ds = tf.data.Dataset.from_tensor_slices((x_val,y_val)).batch(32)"
   ]
  },
  {
   "cell_type": "code",
   "execution_count": 27,
   "id": "a345a051-f322-4305-b61e-f053b046ed81",
   "metadata": {},
   "outputs": [
    {
     "data": {
      "text/plain": [
       "<ShuffleDataset element_spec=(TensorSpec(shape=(None, 11), dtype=tf.float64, name=None), TensorSpec(shape=(None,), dtype=tf.int64, name=None))>"
      ]
     },
     "execution_count": 27,
     "metadata": {},
     "output_type": "execute_result"
    }
   ],
   "source": [
    "val_ds #dengan memanggil salah satu variable tensor dataset, kita bisa liat shapenya, yang merupakan jumlah kolom untuk digunakan di model"
   ]
  },
  {
   "cell_type": "markdown",
   "id": "4ed80997-6c53-49f1-b382-3f25193ea84a",
   "metadata": {},
   "source": [
    "### keras sequential"
   ]
  },
  {
   "cell_type": "code",
   "execution_count": 45,
   "id": "e74f86a3-faa7-4908-b988-b7dd0c8e8fb4",
   "metadata": {},
   "outputs": [
    {
     "name": "stdout",
     "output_type": "stream",
     "text": [
      "Model: \"sequential_1\"\n",
      "_________________________________________________________________\n",
      " Layer (type)                Output Shape              Param #   \n",
      "=================================================================\n",
      " dense_6 (Dense)             (None, 12)                144       \n",
      "                                                                 \n",
      " dense_7 (Dense)             (None, 4)                 52        \n",
      "                                                                 \n",
      " dense_8 (Dense)             (None, 1)                 5         \n",
      "                                                                 \n",
      "=================================================================\n",
      "Total params: 201\n",
      "Trainable params: 201\n",
      "Non-trainable params: 0\n",
      "_________________________________________________________________\n"
     ]
    }
   ],
   "source": [
    "model = tf.keras.Sequential([ #menggunakan model keras sequential\n",
    "    Dense(12, activation=\"relu\",input_shape=(11,)), #disini saya menggunakan neuron 12, tidak terlalu banyak karena datanya memang tidak terlalu kompleks.\n",
    "    #menggunakan relu activation dan input shape (11 kolom)\n",
    "    Dense(4, activation=\"relu\"),\n",
    "    Dense(1, activation='sigmoid'), #untuk output 1 yang berarti binary classification dan sigmoid merupakan activation function untuk klasifikasi biner\n",
    "])\n",
    "\n",
    "model.summary() #melihat summary dari model"
   ]
  },
  {
   "cell_type": "markdown",
   "id": "e6e9c0e9-c16d-469c-806d-9ba87ec7aff8",
   "metadata": {},
   "source": [
    "### functional API"
   ]
  },
  {
   "cell_type": "code",
   "execution_count": 46,
   "id": "b02e689f-2bab-403d-b369-d01a0ad81c38",
   "metadata": {},
   "outputs": [
    {
     "name": "stdout",
     "output_type": "stream",
     "text": [
      "Model: \"model_1\"\n",
      "_________________________________________________________________\n",
      " Layer (type)                Output Shape              Param #   \n",
      "=================================================================\n",
      " input_2 (InputLayer)        [(None, 11)]              0         \n",
      "                                                                 \n",
      " dense_9 (Dense)             (None, 12)                144       \n",
      "                                                                 \n",
      " dense_10 (Dense)            (None, 4)                 52        \n",
      "                                                                 \n",
      " dense_11 (Dense)            (None, 1)                 5         \n",
      "                                                                 \n",
      "=================================================================\n",
      "Total params: 201\n",
      "Trainable params: 201\n",
      "Non-trainable params: 0\n",
      "_________________________________________________________________\n"
     ]
    }
   ],
   "source": [
    "inputs = tf.keras.Input(shape=(11,)) #model functional API --> biasanya digunakan lebih sering karena dia fleksibel untuk data kompleks atau simple\n",
    "dense1 = Dense(12, activation=\"relu\")(inputs) #functional API bekerja dengan proses menghubungkan, jadi dimulai dari input, lalu input nyambung dengan dense1, dan seterusnya\n",
    "dense2 = Dense(4, activation='relu')(dense1) #neuron yang saya pakai juga sama dengan keras sequential untuk membandingkan hasil\n",
    "outputs = Dense(1, activation='sigmoid')(dense2) #output binary, jadi menggunakan sigmoid\n",
    "\n",
    "model_functional = Model(inputs=inputs, outputs=outputs)\n",
    "model_functional.summary() #summary dari model functional API"
   ]
  },
  {
   "cell_type": "markdown",
   "id": "8eadc689-d154-4dcc-883f-e2518b9c7f35",
   "metadata": {},
   "source": [
    "# Train Model"
   ]
  },
  {
   "cell_type": "code",
   "execution_count": 62,
   "id": "179f2576-ec0b-428d-b4eb-30c4cde6a71a",
   "metadata": {},
   "outputs": [],
   "source": [
    "from tensorflow.keras.metrics import Precision, Recall, AUC #setelah model sudah di-compile, sekarang waktunya training data\n",
    "#saya menggunakan beberapa metric yaitu precision, recall, AUC, dan accuracy\n",
    "\n",
    "#precision penting karena ingin memprediksi diabetes dan kita ingin meminimalkan false positives yaitu kita mau memastikan kalo orang itu memang punya diabetes, maka kita bisa melakukan pengobatan. Hal ini membuat ketepatan prediksi semakin tinggi\n",
    "#recall mengukur seberapa baik model mendeteksi semua kasus positif. Dalam konteks diabetes, kita mau memastika bahwa sebanyak mungkin kasus positif terdeteksi, false negatives (orang yang terkena diabetes, dianggap tidak diabetes) sangat berbahaya\n",
    "#menggunakan AUC (area under curve) karena membantu mengevaluasi kemampuan model dalam membedakan mana positif dan negatif. Ini metrik yang sesuai untuk menangani data imbalance.\n",
    "#ROC Curve itu adalah kurva yang merupakan hubungan antara True Positive dan False positive, yang dimana AUC, mengukur luas area di bawah kurva ROC. AUC memberikan gambaran seberapa baik model dalam bedain kelas positif dan negatif di ROC curve itu.\n",
    "#Jika AUC = 1. maka model sempurna dalam bedain kelas positif dan negatif, berarti akurasi bagus\n",
    "#jika AUC = 0.5 maka model tidak bisa membedakan dengan baik\n",
    "#Jika AUC < 0.5 ini berarti model buruk, karena dia memprediksinya terbaik (yang positif diprediksi negative, vice versa)"
   ]
  },
  {
   "cell_type": "markdown",
   "id": "d8935a0a-7eee-41e0-9926-95dfa5a8f541",
   "metadata": {},
   "source": [
    "### apa itu callback function?\n",
    "### callback function itu function yang di-pass ke function lain sebagai argumen dan dapat dipanggil lagi pada saat tertentu. Nah panggilnya itu biasanya saat saat tertentu saja ketika suatu goal/kondisi sudah tercapai. Misalnya, early stopping sebagai salah 1 implementasi callbacks function\n",
    "### Contoh implementasinya itu, saat membuat function earlyStopping, function tersebut akan dijadikan argumen di fitting model, nah setelah goal/kondisi tercapai, yaitu ketika tidak ada perkembangan saat training sebanyak patience (5x), maka callbacks akan dijalankan / dipanggil dan akan memberhentikan proses training"
   ]
  },
  {
   "cell_type": "code",
   "execution_count": 48,
   "id": "99d2b5b3-d17d-4811-9150-f2a3a800b843",
   "metadata": {},
   "outputs": [],
   "source": [
    "from tensorflow.keras.callbacks import EarlyStopping #implementasi Callbacks function (Early Stopping)\n",
    "early_stopping = EarlyStopping(monitor='val_loss', patience=5, restore_best_weights=True) \n",
    "#early stopping oleh callbacks function itu salah satu fungsi yang dapat memberhentikan proses model fitting jika tidak adanya peningkatan lagi. \n",
    "#contoh jika 10 epoch dijalankan dan di epoch ke 3 sudah mulai tidak ada peningkatan, jika berlangsung sebanyak parameter patience (contoh 5x gaada perubahan) maka model akan secara otomatis berhenti\n",
    "#ini mencegah overfitting dan menghemat waktu"
   ]
  },
  {
   "cell_type": "markdown",
   "id": "557a18ab-39a8-4477-8c62-46e081469fd2",
   "metadata": {},
   "source": [
    "### Train model sequential"
   ]
  },
  {
   "cell_type": "code",
   "execution_count": 49,
   "id": "0747f0f1-3e57-4282-82ff-ada48988f344",
   "metadata": {},
   "outputs": [],
   "source": [
    "model.compile(optimizer=tf.keras.optimizers.Adam(learning_rate=0.01), #melakukan training sequential dengan adam sebagai optimizer, learning rate 0.01\n",
    "              loss='binary_crossentropy', #loss function binary_crossentropy sebagai loss function utk klasifikasi biner\n",
    "              metrics=['accuracy', 'Precision', 'Recall', 'AUC']) #disini menggunakan metrics accuracy, precision, recall, AUC"
   ]
  },
  {
   "cell_type": "code",
   "execution_count": 50,
   "id": "8f065ecf-cdb2-4978-97af-168f4174594a",
   "metadata": {},
   "outputs": [
    {
     "name": "stdout",
     "output_type": "stream",
     "text": [
      "Epoch 1/10\n",
      "1803/1803 [==============================] - 6s 3ms/step - loss: 0.1207 - accuracy: 0.9566 - precision: 0.8563 - recall: 0.6169 - auc: 0.9573 - val_loss: 0.0966 - val_accuracy: 0.9666 - val_precision: 0.9487 - val_recall: 0.6558 - val_auc: 0.9701\n",
      "Epoch 2/10\n",
      "1803/1803 [==============================] - 5s 3ms/step - loss: 0.0957 - accuracy: 0.9667 - precision: 0.9653 - recall: 0.6492 - auc: 0.9710 - val_loss: 0.0917 - val_accuracy: 0.9674 - val_precision: 0.9935 - val_recall: 0.6334 - val_auc: 0.9752\n",
      "Epoch 3/10\n",
      "1803/1803 [==============================] - 5s 3ms/step - loss: 0.0909 - accuracy: 0.9680 - precision: 0.9771 - recall: 0.6558 - auc: 0.9733 - val_loss: 0.0878 - val_accuracy: 0.9685 - val_precision: 0.9665 - val_recall: 0.6653 - val_auc: 0.9746\n",
      "Epoch 4/10\n",
      "1803/1803 [==============================] - 5s 3ms/step - loss: 0.0895 - accuracy: 0.9689 - precision: 0.9830 - recall: 0.6624 - auc: 0.9739 - val_loss: 0.0934 - val_accuracy: 0.9653 - val_precision: 0.9812 - val_recall: 0.6174 - val_auc: 0.9740\n",
      "Epoch 5/10\n",
      "1803/1803 [==============================] - 5s 3ms/step - loss: 0.0897 - accuracy: 0.9689 - precision: 0.9869 - recall: 0.6593 - auc: 0.9734 - val_loss: 0.0879 - val_accuracy: 0.9687 - val_precision: 0.9946 - val_recall: 0.6481 - val_auc: 0.9753\n",
      "Epoch 6/10\n",
      "1803/1803 [==============================] - 5s 3ms/step - loss: 0.0895 - accuracy: 0.9692 - precision: 0.9904 - recall: 0.6606 - auc: 0.9736 - val_loss: 0.0884 - val_accuracy: 0.9681 - val_precision: 0.9927 - val_recall: 0.6416 - val_auc: 0.9753\n",
      "Epoch 7/10\n",
      "1803/1803 [==============================] - 5s 3ms/step - loss: 0.0881 - accuracy: 0.9696 - precision: 0.9936 - recall: 0.6626 - auc: 0.9742 - val_loss: 0.0866 - val_accuracy: 0.9696 - val_precision: 1.0000 - val_recall: 0.6541 - val_auc: 0.9753\n",
      "Epoch 8/10\n",
      "1803/1803 [==============================] - 5s 3ms/step - loss: 0.0874 - accuracy: 0.9700 - precision: 0.9933 - recall: 0.6673 - auc: 0.9745 - val_loss: 0.0856 - val_accuracy: 0.9699 - val_precision: 1.0000 - val_recall: 0.6582 - val_auc: 0.9756\n",
      "Epoch 9/10\n",
      "1803/1803 [==============================] - 5s 3ms/step - loss: 0.0877 - accuracy: 0.9698 - precision: 0.9936 - recall: 0.6657 - auc: 0.9741 - val_loss: 0.0852 - val_accuracy: 0.9699 - val_precision: 0.9982 - val_recall: 0.6588 - val_auc: 0.9756\n",
      "Epoch 10/10\n",
      "1803/1803 [==============================] - 5s 3ms/step - loss: 0.0879 - accuracy: 0.9695 - precision: 0.9950 - recall: 0.6608 - auc: 0.9743 - val_loss: 0.0864 - val_accuracy: 0.9694 - val_precision: 1.0000 - val_recall: 0.6517 - val_auc: 0.9754\n"
     ]
    }
   ],
   "source": [
    "fitting_sequential = model.fit(train_ds, validation_data=val_ds, epochs=10, callbacks=[early_stopping]) #fitting model\n",
    "#10 epoch\n",
    "#menggunakan early_stopping sebagai argumen"
   ]
  },
  {
   "cell_type": "markdown",
   "id": "23677ab2-4f86-4a48-a6ab-c73b291c2951",
   "metadata": {},
   "source": [
    "### Train model functional"
   ]
  },
  {
   "cell_type": "code",
   "execution_count": 51,
   "id": "77fcf68c-ec5b-4816-9144-45afc0674f7a",
   "metadata": {},
   "outputs": [],
   "source": [
    "model_functional.compile( #compile model functional\n",
    "    optimizer=tf.keras.optimizers.Adam(learning_rate=0.01),  #utk functional sama saja parameter dengan sequential\n",
    "    loss='binary_crossentropy',\n",
    "    metrics=['accuracy', 'Precision', 'Recall', 'AUC']\n",
    ")"
   ]
  },
  {
   "cell_type": "code",
   "execution_count": 52,
   "id": "74291da9-bbfc-4f36-b444-b1eb25078dc8",
   "metadata": {},
   "outputs": [
    {
     "name": "stdout",
     "output_type": "stream",
     "text": [
      "Epoch 1/10\n",
      "1803/1803 [==============================] - 6s 3ms/step - loss: 0.1177 - accuracy: 0.9588 - precision: 0.8947 - recall: 0.6098 - auc: 0.9590 - val_loss: 0.0936 - val_accuracy: 0.9670 - val_precision: 0.9648 - val_recall: 0.6487 - val_auc: 0.9726\n",
      "Epoch 2/10\n",
      "1803/1803 [==============================] - 5s 3ms/step - loss: 0.0922 - accuracy: 0.9680 - precision: 0.9774 - recall: 0.6556 - auc: 0.9725 - val_loss: 0.0877 - val_accuracy: 0.9691 - val_precision: 0.9757 - val_recall: 0.6647 - val_auc: 0.9746\n",
      "Epoch 3/10\n",
      "1803/1803 [==============================] - 5s 3ms/step - loss: 0.0902 - accuracy: 0.9687 - precision: 0.9851 - recall: 0.6583 - auc: 0.9732 - val_loss: 0.0879 - val_accuracy: 0.9695 - val_precision: 0.9955 - val_recall: 0.6564 - val_auc: 0.9753\n",
      "Epoch 4/10\n",
      "1803/1803 [==============================] - 5s 3ms/step - loss: 0.0888 - accuracy: 0.9691 - precision: 0.9909 - recall: 0.6587 - auc: 0.9740 - val_loss: 0.0864 - val_accuracy: 0.9699 - val_precision: 0.9973 - val_recall: 0.6594 - val_auc: 0.9749\n",
      "Epoch 5/10\n",
      "1803/1803 [==============================] - 5s 3ms/step - loss: 0.0882 - accuracy: 0.9696 - precision: 0.9884 - recall: 0.6661 - auc: 0.9739 - val_loss: 0.0876 - val_accuracy: 0.9693 - val_precision: 1.0000 - val_recall: 0.6511 - val_auc: 0.9755\n",
      "Epoch 6/10\n",
      "1803/1803 [==============================] - 5s 3ms/step - loss: 0.0883 - accuracy: 0.9694 - precision: 0.9901 - recall: 0.6626 - auc: 0.9740 - val_loss: 0.0866 - val_accuracy: 0.9696 - val_precision: 0.9946 - val_recall: 0.6582 - val_auc: 0.9754\n",
      "Epoch 7/10\n",
      "1803/1803 [==============================] - 5s 3ms/step - loss: 0.0872 - accuracy: 0.9699 - precision: 0.9902 - recall: 0.6684 - auc: 0.9743 - val_loss: 0.0888 - val_accuracy: 0.9691 - val_precision: 1.0000 - val_recall: 0.6481 - val_auc: 0.9749\n",
      "Epoch 8/10\n",
      "1803/1803 [==============================] - 5s 3ms/step - loss: 0.0878 - accuracy: 0.9697 - precision: 0.9905 - recall: 0.6667 - auc: 0.9743 - val_loss: 0.0873 - val_accuracy: 0.9699 - val_precision: 1.0000 - val_recall: 0.6582 - val_auc: 0.9754\n",
      "Epoch 9/10\n",
      "1803/1803 [==============================] - 5s 3ms/step - loss: 0.0873 - accuracy: 0.9699 - precision: 0.9874 - recall: 0.6702 - auc: 0.9741 - val_loss: 0.0873 - val_accuracy: 0.9697 - val_precision: 0.9929 - val_recall: 0.6606 - val_auc: 0.9753\n"
     ]
    }
   ],
   "source": [
    "fitting_functional = model_functional.fit(train_ds,validation_data=val_ds,epochs = 10, callbacks=[early_stopping]) #fitting model"
   ]
  },
  {
   "cell_type": "markdown",
   "id": "4412bf92-2c6e-48a0-b70e-37b32cf7c0cd",
   "metadata": {},
   "source": [
    "### performa overall dari kedua model bisa dibilang mirip, hanya sedikit perbedaan yang terlihat dari beberapa metric. Model functional APi itu lebih tinggi di bagian recall, sedangkan sequential di bagian precision. Untuk akurasi dan AUC kedua model hampir identik. Kesimpulannya, kedua model sudah sangat baik untuk memprediksi dataset ini."
   ]
  },
  {
   "cell_type": "markdown",
   "id": "1a007fc8-a3df-404e-b322-20a22cd5f7f9",
   "metadata": {},
   "source": [
    "# Testing model"
   ]
  },
  {
   "cell_type": "markdown",
   "id": "e2607aac-885b-4bdc-bb9e-ad0ed2204a7b",
   "metadata": {},
   "source": [
    "### Sequential"
   ]
  },
  {
   "cell_type": "code",
   "execution_count": 58,
   "id": "f135a5b2-ee89-4460-86c7-7e565912668a",
   "metadata": {},
   "outputs": [
    {
     "name": "stdout",
     "output_type": "stream",
     "text": [
      "601/601 [==============================] - 1s 2ms/step - loss: 0.0818 - accuracy: 0.9719 - precision: 1.0000 - recall: 0.6731 - auc: 0.9760\n"
     ]
    },
    {
     "data": {
      "text/plain": [
       "[0.08175625652074814,\n",
       " 0.9719188809394836,\n",
       " 1.0,\n",
       " 0.6731234788894653,\n",
       " 0.9760300517082214]"
      ]
     },
     "execution_count": 58,
     "metadata": {},
     "output_type": "execute_result"
    }
   ],
   "source": [
    "model.evaluate(test_ds)"
   ]
  },
  {
   "cell_type": "markdown",
   "id": "e80c3c40-0197-4945-8285-8b32c7b09877",
   "metadata": {},
   "source": [
    "### Functional"
   ]
  },
  {
   "cell_type": "code",
   "execution_count": 59,
   "id": "3c7ab94e-26f7-491f-9b3d-ef83efb14a4a",
   "metadata": {},
   "outputs": [
    {
     "name": "stdout",
     "output_type": "stream",
     "text": [
      "601/601 [==============================] - 1s 2ms/step - loss: 0.0817 - accuracy: 0.9724 - precision: 0.9947 - recall: 0.6822 - auc: 0.9756\n"
     ]
    },
    {
     "data": {
      "text/plain": [
       "[0.08166327327489853,\n",
       " 0.97238689661026,\n",
       " 0.9947043061256409,\n",
       " 0.6822034120559692,\n",
       " 0.9755522012710571]"
      ]
     },
     "execution_count": 59,
     "metadata": {},
     "output_type": "execute_result"
    }
   ],
   "source": [
    "model_functional.evaluate(test_ds)"
   ]
  },
  {
   "cell_type": "markdown",
   "id": "bdeffb0e-5905-4c4d-a326-e5b364363290",
   "metadata": {},
   "source": [
    "### untuk bagian hasil testing juga overall sama kedua model, mungkin akan terlihat berbeda di dataset yang lebih kompleks.\n",
    "### Dari kedua model tersebut, hanya terlihat perbedaan di bagian recall dan precision\n",
    "### precision pada Function API model lebih tinggi 1% dan recall dan AUC pada sequential model lebih tinggi 0.5%\n",
    "### untuk metric lain seperti loss dan accuracy tidak terlihat perbedaan yang signifikan"
   ]
  },
  {
   "cell_type": "markdown",
   "id": "8ec17084-a2e4-4eb2-88bd-29d3e9558e73",
   "metadata": {},
   "source": [
    "# Hyperparameter Tuning"
   ]
  },
  {
   "cell_type": "code",
   "execution_count": 55,
   "id": "81c6a610-6619-4efa-be82-72b37b32fcff",
   "metadata": {
    "scrolled": true
   },
   "outputs": [],
   "source": [
    "# from keras.wrappers.scikit_learn import KerasClassifier\n",
    "# from sklearn.model_selection import GridSearchCV\n",
    "\n",
    "# def create_model_sequential(optimizer='adam', activation='relu', neurons=64):\n",
    "#     model = Sequential()\n",
    "#     model.add(Dense(neurons, activation=activation, input_shape=(11,)))\n",
    "#     model.add(Dense(neurons, activation=activation))\n",
    "#     model.add(Dense(1, activation='sigmoid'))  # Output layer for binary classification\n",
    "#     model.compile(optimizer=optimizer, loss='binary_crossentropy', metrics=['accuracy'])\n",
    "#     return model\n",
    "\n",
    "# param_grid_sequential = {\n",
    "#     'optimizer': ['adam', 'sgd'],\n",
    "#     'activation': ['relu', 'sigmoid', 'tanh'],\n",
    "#     'neurons': [12, 32, 64],\n",
    "#     'epochs': [10, 20],\n",
    "#     'batch_size': [32, 64]\n",
    "# }\n",
    "\n",
    "# model_sequential = KerasClassifier(build_fn=create_model_sequential)\n",
    "\n",
    "# grid_search_sequential = GridSearchCV(estimator=model_sequential, param_grid=param_grid_sequential, cv=3)\n",
    "# grid_search_result_sequential = grid_search_sequential.fit(x_train, y_train)\n",
    "\n",
    "# print(\"Best Parameters for Sequential Model:\", grid_search_result_sequential.best_params_)"
   ]
  },
  {
   "cell_type": "code",
   "execution_count": null,
   "id": "e7624109-a936-410e-ad37-eac7a511835f",
   "metadata": {},
   "outputs": [],
   "source": []
  }
 ],
 "metadata": {
  "kernelspec": {
   "display_name": "Python 3 (ipykernel)",
   "language": "python",
   "name": "python3"
  },
  "language_info": {
   "codemirror_mode": {
    "name": "ipython",
    "version": 3
   },
   "file_extension": ".py",
   "mimetype": "text/x-python",
   "name": "python",
   "nbconvert_exporter": "python",
   "pygments_lexer": "ipython3",
   "version": "3.9.21"
  }
 },
 "nbformat": 4,
 "nbformat_minor": 5
}
